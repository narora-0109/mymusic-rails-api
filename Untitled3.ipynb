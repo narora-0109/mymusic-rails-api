{
 "cells": [
  {
   "cell_type": "code",
   "execution_count": 6,
   "metadata": {
    "collapsed": false
   },
   "outputs": [
    {
     "ename": "LoadError",
     "evalue": "cannot load such file -- iruby/;l",
     "output_type": "error",
     "traceback": [
      "\u001b[31mLoadError\u001b[0m: cannot load such file -- iruby/;l",
      "\u001b[37m(pry):14:in `require'\u001b[0m",
      "\u001b[37m(pry):14:in `<main>'\u001b[0m",
      "\u001b[37m/home/spiros/.gem/ruby/2.3.0/gems/pry-0.10.3/lib/pry/pry_instance.rb:355:in `eval'\u001b[0m",
      "\u001b[37m/home/spiros/.gem/ruby/2.3.0/gems/pry-0.10.3/lib/pry/pry_instance.rb:355:in `evaluate_ruby'\u001b[0m",
      "\u001b[37m/home/spiros/.gem/ruby/2.3.0/gems/pry-0.10.3/lib/pry/pry_instance.rb:323:in `handle_line'\u001b[0m",
      "\u001b[37m/home/spiros/.gem/ruby/2.3.0/gems/pry-0.10.3/lib/pry/pry_instance.rb:243:in `block (2 levels) in eval'\u001b[0m",
      "\u001b[37m/home/spiros/.gem/ruby/2.3.0/gems/pry-0.10.3/lib/pry/pry_instance.rb:242:in `catch'\u001b[0m",
      "\u001b[37m/home/spiros/.gem/ruby/2.3.0/gems/pry-0.10.3/lib/pry/pry_instance.rb:242:in `block in eval'\u001b[0m",
      "\u001b[37m/home/spiros/.gem/ruby/2.3.0/gems/pry-0.10.3/lib/pry/pry_instance.rb:241:in `catch'\u001b[0m",
      "\u001b[37m/home/spiros/.gem/ruby/2.3.0/gems/pry-0.10.3/lib/pry/pry_instance.rb:241:in `eval'\u001b[0m",
      "\u001b[37m/home/spiros/.gem/ruby/2.3.0/gems/iruby-0.2.8/lib/iruby/backend.rb:65:in `eval'\u001b[0m",
      "\u001b[37m/home/spiros/.gem/ruby/2.3.0/gems/iruby-0.2.8/lib/iruby/backend.rb:12:in `eval'\u001b[0m",
      "\u001b[37m/home/spiros/.gem/ruby/2.3.0/gems/iruby-0.2.8/lib/iruby/kernel.rb:87:in `execute_request'\u001b[0m",
      "\u001b[37m/home/spiros/.gem/ruby/2.3.0/gems/iruby-0.2.8/lib/iruby/kernel.rb:47:in `dispatch'\u001b[0m",
      "\u001b[37m/home/spiros/.gem/ruby/2.3.0/gems/iruby-0.2.8/lib/iruby/kernel.rb:37:in `run'\u001b[0m",
      "\u001b[37m/home/spiros/.gem/ruby/2.3.0/gems/iruby-0.2.8/lib/iruby/command.rb:70:in `run_kernel'\u001b[0m",
      "\u001b[37m/home/spiros/.gem/ruby/2.3.0/gems/iruby-0.2.8/lib/iruby/command.rb:34:in `run'\u001b[0m",
      "\u001b[37m/home/spiros/.gem/ruby/2.3.0/gems/iruby-0.2.8/bin/iruby:5:in `<top (required)>'\u001b[0m",
      "\u001b[37m/home/spiros/.gem/ruby/2.3.0/bin/iruby:23:in `load'\u001b[0m",
      "\u001b[37m/home/spiros/.gem/ruby/2.3.0/bin/iruby:23:in `<main>'\u001b[0m"
     ]
    }
   ],
   "source": [
    "require 'iruby'\n",
    "puts 'Hello Jupyter'\n",
    "puts 'sadasd'\n",
    "Album.first\n"
   ]
  },
  {
   "cell_type": "code",
   "execution_count": null,
   "metadata": {
    "collapsed": true
   },
   "outputs": [],
   "source": []
  },
  {
   "cell_type": "code",
   "execution_count": null,
   "metadata": {
    "collapsed": true
   },
   "outputs": [],
   "source": []
  }
 ],
 "metadata": {
  "kernelspec": {
   "display_name": "Ruby 2.3.0",
   "language": "ruby",
   "name": "ruby"
  },
  "language_info": {
   "file_extension": ".rb",
   "mimetype": "application/x-ruby",
   "name": "ruby",
   "version": "2.3.0"
  }
 },
 "nbformat": 4,
 "nbformat_minor": 0
}
